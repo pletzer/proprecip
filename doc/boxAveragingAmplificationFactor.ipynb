{
 "cells": [
  {
   "cell_type": "markdown",
   "metadata": {},
   "source": [
    "# Amplication factor for the box averaging scheme"
   ]
  },
  {
   "cell_type": "markdown",
   "metadata": {},
   "source": [
    "$$A = \\frac{1}{(2 M + 1)^2} \\left( \\sum_{n=1}^M \\sum_{m=1}^M 4 \\cos n k h \\cos m q h + \\sum_{n=1}^M 2 \\cos n k h + \\sum_{m=1}^M 2 \\cos m q h + 1\\right)$$\n",
    "where:\n",
    "$M$ is the stencil depth $\\geq 1$\n"
   ]
  },
  {
   "cell_type": "code",
   "execution_count": 13,
   "metadata": {
    "collapsed": false
   },
   "outputs": [
    {
     "data": {
      "text/plain": [
       "<matplotlib.text.Text at 0x7f89e2417610>"
      ]
     },
     "execution_count": 13,
     "metadata": {},
     "output_type": "execute_result"
    },
    {
     "data": {
      "image/png": "[encoded data removed]",
      "text/plain": [
       "<matplotlib.figure.Figure at 0x7f89e48126d0>"
      ]
     },
     "metadata": {},
     "output_type": "display_data"
    }
   ],
   "source": [
    "% matplotlib inline\n",
    "from matplotlib import pylab\n",
    "import numpy\n",
    "\n",
    "kh = numpy.linspace(0., numpy.pi, 100)\n",
    "qh = 0\n",
    "M = 3\n",
    "numCells = (2*M + 1)**2\n",
    "\n",
    "a = numpy.ones(kh.shape, kh.dtype)\n",
    "\n",
    "for m in range(1, M + 1):\n",
    "    a += 2 * numpy.cos(m * qh)\n",
    "    \n",
    "for n in range(1, M + 1):\n",
    "    a += 2 * numpy.cos(n * kh)\n",
    "    \n",
    "for n in range(1, M + 1):\n",
    "    for m in range(1, M + 1):\n",
    "        a += 4 * numpy.cos(n * kh) * numpy.cos(m * qh)\n",
    "        \n",
    "a /= float(numCells)\n",
    "        \n",
    "pylab.plot(kh, a)\n",
    "pylab.title('amplification factor for {} x {} box avrg'.format(2*M + 1, 2*M+1))\n",
    "pylab.xlabel('k h')\n"
   ]
  },
  {
   "cell_type": "code",
   "execution_count": 12,
   "metadata": {
    "collapsed": false
   },
   "outputs": [
    {
     "name": "stdout",
     "output_type": "stream",
     "text": [
      "5\n"
     ]
    }
   ],
   "source": [
    "print(numCells)\n"
   ]
  },
  {
   "cell_type": "code",
   "execution_count": null,
   "metadata": {
    "collapsed": true
   },
   "outputs": [],
   "source": []
  }
 ],
 "metadata": {
  "kernelspec": {
   "display_name": "Python [Root]",
   "language": "python",
   "name": "Python [Root]"
  },
  "language_info": {
   "codemirror_mode": {
    "name": "ipython",
    "version": 2
   },
   "file_extension": ".py",
   "mimetype": "text/x-python",
   "name": "python",
   "nbconvert_exporter": "python",
   "pygments_lexer": "ipython2",
   "version": "2.7.12"
  }
 },
 "nbformat": 4,
 "nbformat_minor": 0
}
