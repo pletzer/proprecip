{
 "cells": [
  {
   "cell_type": "markdown",
   "metadata": {},
   "source": [
    "# How many iterations are required to damp high wavenumber perturbations?"
   ]
  },
  {
   "cell_type": "markdown",
   "metadata": {},
   "source": [
    "## Jacobi iterations"
   ]
  },
  {
   "cell_type": "markdown",
   "metadata": {},
   "source": [
    "$$\\psi_{ij}^{n+1} = (1 - \\alpha) \\psi_{ij}^n  + \\frac{\\alpha}{4} \\left(\\psi_{i-1,j}^n + \\psi_{i+1,j}^n + \\psi_{i,j-1}^n + \\psi_{i,j+1}^n \\right)$$"
   ]
  },
  {
   "cell_type": "markdown",
   "metadata": {},
   "source": [
    "$\\psi_{i,j}^{n+1}$ is the new iterate at cell location $i, j$\n",
    "$\\psi_{i,j}^{n}$ is the old iterate\n",
    "$\\alpha$ is a coefficient in the range $0 \\cdots 1$. "
   ]
  },
  {
   "cell_type": "markdown",
   "metadata": {},
   "source": [
    "Note that $\\alpha/4$ is a diffusion coefficient since we can reqwrite\n",
    "$$\\left(\\psi_{i-1,j}^n + \\psi_{i+1,j}^n + \\psi_{i,j-1}^n + \\psi_{i,j+1}^n \\right) \\approx \\left(h^2 \\nabla^2 + 4\\right) \\psi_{ij}^n$$ where $h$ is the cell size (same in x and y directions).\n",
    "Hence,\n",
    "$$\\psi_{ij}^{n+1} \\approx (1 - \\alpha) \\psi_{ij}^n + \\frac{\\alpha}{4}\\left(h^2 \\nabla^2 + 4\\right) \\psi_{ij}^2$$\n",
    "or\n",
    "$$\\psi_{ij}^{n+1} \\approx \\left( 1 + \\frac{\\alpha}{4} h^2 \\nabla^2 \\right) \\psi_{ij}^n.$$\n"
   ]
  },
  {
   "cell_type": "markdown",
   "metadata": {},
   "source": [
    "## Amplification factor"
   ]
  },
  {
   "cell_type": "markdown",
   "metadata": {},
   "source": [
    "Our aim is damp high frequency modes by applying Jacobi iterations multiple times. Using a von Neumann stability analysis where $\\psi_{ij}^n \\sim \\exp i(k x + q y)$ one gets\n",
    "$$\\psi_{ij}^{n+1} = (1 - \\alpha) \\psi_{ij}^n + \\frac{\\alpha}{4} \\left(e^{i k h} + e^{-i k h} + e^{i q h} + e^{-i q h} \\right) \\psi_{ij}^n$$. Dropping the $ij$ subscripts, one gets:\n",
    "$$\\psi^{n+1} = \\left(1 - \\alpha + \\frac{\\alpha}{2} \\cos kh + \\frac{\\alpha}{2} \\cos q h \\right) \\psi^n.$$\n",
    "The amplification factor is:\n",
    "$$A = 1 - \\alpha + \\frac{\\alpha}{2} \\cos kh + \\frac{\\alpha}{2} \\cos q h.$$"
   ]
  },
  {
   "cell_type": "markdown",
   "metadata": {},
   "source": [
    "At each iteration, the amplitudes $e^{ikx + i qy}$ are damped by a factor $A(k, q)$. "
   ]
  },
  {
   "cell_type": "markdown",
   "metadata": {},
   "source": [
    "## Example\n",
    "\n",
    "Consider the case $q = 0$ and $k$ varying from 0, to $\\pi/h$, the amplification factor for different values of $\\alpha$ is:"
   ]
  },
  {
   "cell_type": "code",
   "execution_count": 16,
   "metadata": {
    "collapsed": false
   },
   "outputs": [
    {
     "data": {
      "image/png": "[encoded data removed]",
      "text/plain": [
       "<matplotlib.figure.Figure at 0x7f748ffae850>"
      ]
     },
     "metadata": {},
     "output_type": "display_data"
    }
   ],
   "source": [
    "% matplotlib inline\n",
    "from matplotlib import pylab\n",
    "import numpy\n",
    "kh = numpy.linspace(0., numpy.pi, 100)\n",
    "qh = 0.0\n",
    "colors = ('b', 'g', 'r', 'k', 'm', 'c')\n",
    "legs = ('alpha=0', '0.25', '0.5', '0.75', '1')\n",
    "i = 0\n",
    "for alpha in numpy.linspace(0., 1., 5):\n",
    "    a = 1 - alpha + 0.5*alpha * numpy.cos(kh)+ 0.5*alpha * numpy.cos(qh)\n",
    "    pylab.plot(kh, a, colors[i] + '-')\n",
    "    i += 1\n",
    "pylab.axis([0, numpy.pi, 0, 1.1])\n",
    "pylab.legend(legs, loc=3)\n",
    "pylab.title('amplification factor')\n",
    "pylab.xlabel('k h')\n",
    "pylab.show()"
   ]
  },
  {
   "cell_type": "markdown",
   "metadata": {},
   "source": [
    "We see that high wavenumbers are damped more strongly than low frequency modes and the damping is most effective for $\\alpha = 1$."
   ]
  },
  {
   "cell_type": "markdown",
   "metadata": {},
   "source": [
    "## How to determine the number of iterations\n",
    "\n",
    "Let's say we want to attenuate $kh = \\pi/2, qh = 0$ by 99 percent using $N$ iterations, then:"
   ]
  },
  {
   "cell_type": "markdown",
   "metadata": {},
   "source": [
    "$$A^N = (1 - \\frac{\\alpha}{2})^N = 0.01$$\n",
    "or"
   ]
  },
  {
   "cell_type": "code",
   "execution_count": 17,
   "metadata": {
    "collapsed": false
   },
   "outputs": [
    {
     "data": {
      "text/plain": [
       "6.6438561897747244"
      ]
     },
     "execution_count": 17,
     "metadata": {},
     "output_type": "execute_result"
    }
   ],
   "source": [
    "alpha = 1\n",
    "numpy.log(0.01)/numpy.log(alpha/2.)"
   ]
  },
  {
   "cell_type": "markdown",
   "metadata": {},
   "source": [
    "That is about 7 iterations."
   ]
  }
 ],
 "metadata": {
  "kernelspec": {
   "display_name": "Python [Root]",
   "language": "python",
   "name": "Python [Root]"
  },
  "language_info": {
   "codemirror_mode": {
    "name": "ipython",
    "version": 2
   },
   "file_extension": ".py",
   "mimetype": "text/x-python",
   "name": "python",
   "nbconvert_exporter": "python",
   "pygments_lexer": "ipython2",
   "version": "2.7.12"
  }
 },
 "nbformat": 4,
 "nbformat_minor": 0
}
